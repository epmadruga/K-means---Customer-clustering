{
 "cells": [
  {
   "cell_type": "markdown",
   "id": "dba83b8d",
   "metadata": {},
   "source": [
    "# Customer clustering algorithm for Membership Organization"
   ]
  },
  {
   "cell_type": "markdown",
   "id": "196af3b1",
   "metadata": {},
   "source": [
    "#### author Ederson Madruga - april 2022"
   ]
  },
  {
   "cell_type": "markdown",
   "id": "c81babad",
   "metadata": {},
   "source": [
    "Sources:\n",
    "https://www.letsdata.ai/\n",
    "https://levelup.gitconnected.com/clustering-gps-co-ordinates-forming-regions-4f50caa7e4a1\n",
    "https://stackoverflow.com/questions/28862334/k-means-with-selected-initial-centers\n",
    "\n",
    "Libraries:\n",
    "#!pip install Cython \n",
    "#!pip install pyproject-toml\n",
    "#!pip install size-constrained-clustering\n",
    "#!pip install k-means-constrained"
   ]
  },
  {
   "cell_type": "markdown",
   "id": "277e6dd2",
   "metadata": {},
   "source": [
    "About this project\n",
    "This project aims to separate consumers into groups to hold periodic meetings.\n",
    "We can previously define the centers of the clusters (centroids) or the algorithm will make the choice.\n",
    "We can define the minimum and maximum number of individuals in the clusters."
   ]
  },
  {
   "cell_type": "code",
   "execution_count": 1,
   "id": "dda53052",
   "metadata": {},
   "outputs": [],
   "source": [
    "import numpy as np\n",
    "import pandas as pd\n",
    "from matplotlib import pyplot as plt\n",
    "import seaborn as sns\n",
    "from sklearn.cluster import KMeans\n",
    "from k_means_constrained import KMeansConstrained"
   ]
  },
  {
   "cell_type": "markdown",
   "id": "8303de89",
   "metadata": {},
   "source": [
    "## Parameters"
   ]
  },
  {
   "cell_type": "code",
   "execution_count": 2,
   "id": "e70b5e7b",
   "metadata": {},
   "outputs": [],
   "source": [
    "#Fixed number of clusters - How many clusters should be created?\n",
    "#Número de clusters fixos - Quantos clusters deverão ser criados?\n",
    "cluster_number = 20\n",
    "\n",
    "#File with point coordinates\n",
    "#Arquivo com coordenadas dos pontos\n",
    "points_file = 'ucs_coordenadas.xlsx'\n",
    "\n",
    "# Maximum iterations \n",
    "#Número máximo de iterações do algorítmo\n",
    "max_iter_number = 300\n",
    "\n",
    "\n",
    "#=============================================================================================================================\n",
    "#Calculation with minimum and maximum number of individuals in clusters\n",
    "#Cálculo com número mínimo e máximo de indivíduos nos clusters\n",
    "#--------------------------------------------------------------\n",
    "#If kmeans_constrained == True then the algorithm will use the minimum and maximum numbers of individuals\n",
    "# insert the min_number_individual variable (Minimum number of individuals in a Cluster)\n",
    "#Se kmeans_constrained == True então o algorítmo irá deixar os clusters com os números mínimos e máximos de indivíduos\n",
    "#Preencher a variável min_number_individual (Número mínimo de indivíduos em um Cluster)\n",
    "kmeans_constrained = True\n",
    "\n",
    "#Minimum number of individuals in a Cluster\n",
    "#Número mínimo de indivíduos em um Cluster\n",
    "min_number_individual = 1000\n",
    "\n",
    "# Maximum number of individuals in a Cluster\n",
    "#Número máximo de indivíduos em um Cluster\n",
    "max_number_individual = 1800 ##If this parameter is at -1, the limit will be the total number of individuals \n",
    "                            #Se este parâmetro estiver em -1, o limite será o total de indivíduos\n",
    "#--------------------------------------------------------------\n",
    "#=============================================================================================================================\n",
    "#--------------------------------------------------------------\n",
    "#Centróides aleatórios (random_centroids = True) ou fixos (random_centroids = False). \n",
    "#Se fixos, determinar array \"centroids_coords\"\n",
    "#Centróides aleatórios (random_centroids = True) ou fixos (random_centroids = False). \n",
    "#Se fixos, determinar array \"centroids_coords\"\n",
    "random_centroids = True\n",
    "\n",
    "#Array with centroid coordinates, case \"(random_centroids = False\"\n",
    "#Array com coordenadas dos centróides, caso \"(random_centroids = False\"\n",
    "centroids_coords = np.array([[367954.556,  6704527.217],[415420.062,6696398.761]], np.float64) #Exemple\n",
    "#--------------------------------------------------------------"
   ]
  },
  {
   "cell_type": "markdown",
   "id": "c7dfdbab",
   "metadata": {},
   "source": [
    "## Importing data file"
   ]
  },
  {
   "cell_type": "code",
   "execution_count": 3,
   "id": "e0738df8",
   "metadata": {},
   "outputs": [],
   "source": [
    "df = pd.read_excel(points_file, index_col='UC')\n",
    "df = df.loc[df['LIGADO'] == 'S']\n",
    "df = df.loc[df['COORDENADAX'].isna() == False]\n",
    "df.rename(columns={'COORDENADAX':'X', 'COORDENADAY':'Y'}, inplace = True)\n",
    "df_full = df\n",
    "df_full = df_full.reset_index()\n",
    "df = df.drop(['LOCAL', 'POSTE', 'SE', 'AL', 'LIGADO', 'CLASSE'], axis=1)\n",
    "df = df.reset_index()"
   ]
  },
  {
   "cell_type": "code",
   "execution_count": 4,
   "id": "4337bf8e",
   "metadata": {},
   "outputs": [
    {
     "data": {
      "text/html": [
       "<div>\n",
       "<style scoped>\n",
       "    .dataframe tbody tr th:only-of-type {\n",
       "        vertical-align: middle;\n",
       "    }\n",
       "\n",
       "    .dataframe tbody tr th {\n",
       "        vertical-align: top;\n",
       "    }\n",
       "\n",
       "    .dataframe thead th {\n",
       "        text-align: right;\n",
       "    }\n",
       "</style>\n",
       "<table border=\"1\" class=\"dataframe\">\n",
       "  <thead>\n",
       "    <tr style=\"text-align: right;\">\n",
       "      <th></th>\n",
       "      <th>UC</th>\n",
       "      <th>X</th>\n",
       "      <th>Y</th>\n",
       "    </tr>\n",
       "  </thead>\n",
       "  <tbody>\n",
       "    <tr>\n",
       "      <th>0</th>\n",
       "      <td>4</td>\n",
       "      <td>427474.595</td>\n",
       "      <td>6714270.209</td>\n",
       "    </tr>\n",
       "    <tr>\n",
       "      <th>1</th>\n",
       "      <td>11</td>\n",
       "      <td>426273.037</td>\n",
       "      <td>6713425.845</td>\n",
       "    </tr>\n",
       "    <tr>\n",
       "      <th>2</th>\n",
       "      <td>13</td>\n",
       "      <td>431613.045</td>\n",
       "      <td>6715311.228</td>\n",
       "    </tr>\n",
       "    <tr>\n",
       "      <th>3</th>\n",
       "      <td>14</td>\n",
       "      <td>432818.329</td>\n",
       "      <td>6714907.775</td>\n",
       "    </tr>\n",
       "    <tr>\n",
       "      <th>4</th>\n",
       "      <td>15</td>\n",
       "      <td>430488.909</td>\n",
       "      <td>6716056.241</td>\n",
       "    </tr>\n",
       "  </tbody>\n",
       "</table>\n",
       "</div>"
      ],
      "text/plain": [
       "   UC           X            Y\n",
       "0   4  427474.595  6714270.209\n",
       "1  11  426273.037  6713425.845\n",
       "2  13  431613.045  6715311.228\n",
       "3  14  432818.329  6714907.775\n",
       "4  15  430488.909  6716056.241"
      ]
     },
     "execution_count": 4,
     "metadata": {},
     "output_type": "execute_result"
    }
   ],
   "source": [
    "df.head()"
   ]
  },
  {
   "cell_type": "markdown",
   "id": "a10ff546",
   "metadata": {},
   "source": [
    "## Chart using the SSE metric\n",
    "### Definition of the ideal number of Clusters"
   ]
  },
  {
   "cell_type": "code",
   "execution_count": 5,
   "id": "30a6686b",
   "metadata": {},
   "outputs": [
    {
     "data": {
      "image/png": "[encoded data removed]",
      "text/plain": [
       "<Figure size 432x288 with 1 Axes>"
      ]
     },
     "metadata": {
      "needs_background": "light"
     },
     "output_type": "display_data"
    }
   ],
   "source": [
    "from sklearn.cluster import KMeans\n",
    "K_clusters = range(1,10)\n",
    "kmeans = [KMeans(n_clusters=i) for i in K_clusters]\n",
    "Y_axis = df[['Y']]\n",
    "X_axis = df[['X']]\n",
    "score = [kmeans[i].fit(Y_axis).score(Y_axis) for i in range(len(kmeans))]\n",
    "# Visualize\n",
    "plt.plot(K_clusters, score)\n",
    "plt.xlabel('Number of Clusters')\n",
    "plt.ylabel('Score')\n",
    "plt.title('Elbow Curve')\n",
    "plt.show()"
   ]
  },
  {
   "cell_type": "markdown",
   "id": "db671e9e",
   "metadata": {},
   "source": [
    "### K-means"
   ]
  },
  {
   "cell_type": "code",
   "execution_count": 6,
   "id": "2240bf4c",
   "metadata": {},
   "outputs": [],
   "source": [
    "if random_centroids == True:\n",
    "    centroids = 'k-means++' \n",
    "else:\n",
    "    centroids = centroids_coords;\n",
    "\n",
    "if max_number_individual == -1:\n",
    "    max_number_individual = df[df.columns[1:3]].count().X;    "
   ]
  },
  {
   "cell_type": "code",
   "execution_count": 7,
   "id": "484ec5cf",
   "metadata": {},
   "outputs": [],
   "source": [
    "if kmeans_constrained == True:\n",
    "    clf = KMeansConstrained(\n",
    "    n_clusters=cluster_number,\n",
    "    size_min=min_number_individual,\n",
    "    size_max= max_number_individual,\n",
    "    init = centroids,\n",
    "    max_iter = max_iter_number,\n",
    "    random_state=0)\n",
    "    \n",
    "    clf.fit(df[df.columns[1:3]]) \n",
    "    df['cluster_label'] = clf.fit_predict(df[df.columns[1:3]])\n",
    "    centers = clf.cluster_centers_\n",
    "    labels = clf.labels_\n",
    "    iteracoes = clf.n_iter_ #number of iterations(\n",
    "\n",
    "else:\n",
    "    kmeans = KMeans(n_clusters = cluster_number, init = centroids, max_iter = max_iter_number)\n",
    "    kmeans.fit(df[df.columns[1:3]]) # Compute k-means clustering.\n",
    "    df['cluster_label'] = kmeans.fit_predict(df[df.columns[1:3]])\n",
    "    centers = kmeans.cluster_centers_ # Coordinates of cluster centers.\n",
    "    labels = kmeans.predict(df[df.columns[1:3]]) # Labels of each point\n",
    "    iteracoes = kmeans.n_iter_ #number of iterations"
   ]
  },
  {
   "cell_type": "code",
   "execution_count": 8,
   "id": "9ce84e41",
   "metadata": {},
   "outputs": [
    {
     "name": "stdout",
     "output_type": "stream",
     "text": [
      "Centróides em modo aleatório.\n",
      "Número mínimo de indivíduos definidos em 1000.\n",
      " \n",
      "O K-means realizou 22 iterações\n"
     ]
    }
   ],
   "source": [
    "if random_centroids == True:\n",
    "    print(f'Centróides em modo aleatório.') \n",
    "else:\n",
    "    print(f'Os Centróides foram pré-definidos.') \n",
    "    \n",
    "    \n",
    "if kmeans_constrained == True:\n",
    "    print(f'Número mínimo de indivíduos definidos em {min_number_individual}.') \n",
    "else:\n",
    "    print(f'Não há restrições quanto ao número de indivíduos nos clusters.') \n",
    "    \n",
    "print(f' ')\n",
    "print(f'O K-means realizou {iteracoes} iterações') "
   ]
  },
  {
   "cell_type": "code",
   "execution_count": 9,
   "id": "b921b8c4",
   "metadata": {},
   "outputs": [
    {
     "data": {
      "text/plain": [
       "<AxesSubplot:>"
      ]
     },
     "execution_count": 9,
     "metadata": {},
     "output_type": "execute_result"
    },
    {
     "data": {
      "image/png": "[encoded data removed]",
      "text/plain": [
       "<Figure size 720x576 with 1 Axes>"
      ]
     },
     "metadata": {
      "needs_background": "light"
     },
     "output_type": "display_data"
    }
   ],
   "source": [
    "d = {'Clusters_value': df['cluster_label'].value_counts() }\n",
    "pd.DataFrame(data=d).plot(kind='bar', figsize=(10,8))\n"
   ]
  },
  {
   "cell_type": "code",
   "execution_count": 10,
   "id": "9bd2a37a",
   "metadata": {
    "scrolled": true
   },
   "outputs": [
    {
     "data": {
      "text/plain": [
       "0     1800\n",
       "1     1061\n",
       "2     1173\n",
       "3     1800\n",
       "4     1000\n",
       "5     1188\n",
       "6     1053\n",
       "7     1000\n",
       "8     1800\n",
       "9     1800\n",
       "10    1463\n",
       "11    1249\n",
       "12    1051\n",
       "13    1103\n",
       "14    1000\n",
       "15    1409\n",
       "16    1000\n",
       "17    1000\n",
       "18    1000\n",
       "19    1486\n",
       "Name: cluster_label, dtype: int64"
      ]
     },
     "execution_count": 10,
     "metadata": {},
     "output_type": "execute_result"
    }
   ],
   "source": [
    "df['cluster_label'].value_counts().sort_index()"
   ]
  },
  {
   "cell_type": "code",
   "execution_count": 11,
   "id": "2dad8c45",
   "metadata": {},
   "outputs": [
    {
     "data": {
      "text/plain": [
       "<bound method Series.sort_values of 3     1800\n",
       "8     1800\n",
       "9     1800\n",
       "0     1800\n",
       "19    1486\n",
       "10    1463\n",
       "15    1409\n",
       "11    1249\n",
       "5     1188\n",
       "2     1173\n",
       "13    1103\n",
       "1     1061\n",
       "6     1053\n",
       "12    1051\n",
       "7     1000\n",
       "14    1000\n",
       "4     1000\n",
       "16    1000\n",
       "18    1000\n",
       "17    1000\n",
       "Name: cluster_label, dtype: int64>"
      ]
     },
     "execution_count": 11,
     "metadata": {},
     "output_type": "execute_result"
    }
   ],
   "source": [
    "df['cluster_label'].value_counts().sort_values"
   ]
  },
  {
   "cell_type": "code",
   "execution_count": 12,
   "id": "ec963f83",
   "metadata": {},
   "outputs": [
    {
     "data": {
      "text/plain": [
       "<matplotlib.collections.PathCollection at 0x25cb4a29c60>"
      ]
     },
     "execution_count": 12,
     "metadata": {},
     "output_type": "execute_result"
    },
    {
     "data": {
      "image/png": "[encoded data removed]",
      "text/plain": [
       "<Figure size 432x288 with 2 Axes>"
      ]
     },
     "metadata": {
      "needs_background": "light"
     },
     "output_type": "display_data"
    }
   ],
   "source": [
    "df.plot.scatter(x = 'X', y = 'Y', c=labels, s=50, cmap='viridis')\n",
    "plt.scatter(centers[:, 0], centers[:, 1], c='black', s=200, alpha=0.5)"
   ]
  },
  {
   "cell_type": "markdown",
   "id": "22159e62",
   "metadata": {},
   "source": [
    "### Merging original file with clustering"
   ]
  },
  {
   "cell_type": "code",
   "execution_count": 13,
   "id": "80b14c61",
   "metadata": {},
   "outputs": [
    {
     "data": {
      "text/html": [
       "<div>\n",
       "<style scoped>\n",
       "    .dataframe tbody tr th:only-of-type {\n",
       "        vertical-align: middle;\n",
       "    }\n",
       "\n",
       "    .dataframe tbody tr th {\n",
       "        vertical-align: top;\n",
       "    }\n",
       "\n",
       "    .dataframe thead th {\n",
       "        text-align: right;\n",
       "    }\n",
       "</style>\n",
       "<table border=\"1\" class=\"dataframe\">\n",
       "  <thead>\n",
       "    <tr style=\"text-align: right;\">\n",
       "      <th></th>\n",
       "      <th>UC</th>\n",
       "      <th>LOCAL</th>\n",
       "      <th>POSTE</th>\n",
       "      <th>SE</th>\n",
       "      <th>AL</th>\n",
       "      <th>LIGADO</th>\n",
       "      <th>CLASSE</th>\n",
       "      <th>X</th>\n",
       "      <th>Y</th>\n",
       "      <th>CLUSTER</th>\n",
       "    </tr>\n",
       "  </thead>\n",
       "  <tbody>\n",
       "    <tr>\n",
       "      <th>0</th>\n",
       "      <td>4</td>\n",
       "      <td>MORRO DO PEDRO ROSA</td>\n",
       "      <td>75934.0</td>\n",
       "      <td>CTJ2</td>\n",
       "      <td>1.0</td>\n",
       "      <td>S</td>\n",
       "      <td>RURAL</td>\n",
       "      <td>427474.595</td>\n",
       "      <td>6714270.209</td>\n",
       "      <td>19</td>\n",
       "    </tr>\n",
       "    <tr>\n",
       "      <th>1</th>\n",
       "      <td>11</td>\n",
       "      <td>MORRO DO PEDRO ROSA</td>\n",
       "      <td>24353.0</td>\n",
       "      <td>CTJ2</td>\n",
       "      <td>1.0</td>\n",
       "      <td>S</td>\n",
       "      <td>RESIDENCIAL</td>\n",
       "      <td>426273.037</td>\n",
       "      <td>6713425.845</td>\n",
       "      <td>19</td>\n",
       "    </tr>\n",
       "    <tr>\n",
       "      <th>2</th>\n",
       "      <td>13</td>\n",
       "      <td>TABAI</td>\n",
       "      <td>52287.0</td>\n",
       "      <td>CTJ2</td>\n",
       "      <td>1.0</td>\n",
       "      <td>S</td>\n",
       "      <td>COMERCIAL</td>\n",
       "      <td>431613.045</td>\n",
       "      <td>6715311.228</td>\n",
       "      <td>0</td>\n",
       "    </tr>\n",
       "    <tr>\n",
       "      <th>3</th>\n",
       "      <td>14</td>\n",
       "      <td>COSTA DO CADEIA</td>\n",
       "      <td>64532.0</td>\n",
       "      <td>CTJ2</td>\n",
       "      <td>1.0</td>\n",
       "      <td>S</td>\n",
       "      <td>RURAL</td>\n",
       "      <td>432818.329</td>\n",
       "      <td>6714907.775</td>\n",
       "      <td>0</td>\n",
       "    </tr>\n",
       "    <tr>\n",
       "      <th>4</th>\n",
       "      <td>15</td>\n",
       "      <td>TREVO TABAI</td>\n",
       "      <td>43147.0</td>\n",
       "      <td>CTJ2</td>\n",
       "      <td>1.0</td>\n",
       "      <td>S</td>\n",
       "      <td>RURAL</td>\n",
       "      <td>430488.909</td>\n",
       "      <td>6716056.241</td>\n",
       "      <td>0</td>\n",
       "    </tr>\n",
       "    <tr>\n",
       "      <th>5</th>\n",
       "      <td>19</td>\n",
       "      <td>COSTA DO CADEIA</td>\n",
       "      <td>26700.0</td>\n",
       "      <td>CTJ2</td>\n",
       "      <td>1.0</td>\n",
       "      <td>S</td>\n",
       "      <td>RURAL</td>\n",
       "      <td>435026.002</td>\n",
       "      <td>6714015.786</td>\n",
       "      <td>0</td>\n",
       "    </tr>\n",
       "    <tr>\n",
       "      <th>6</th>\n",
       "      <td>29</td>\n",
       "      <td>COXILHA VELHA</td>\n",
       "      <td>29378.0</td>\n",
       "      <td>CTJ2</td>\n",
       "      <td>1.0</td>\n",
       "      <td>S</td>\n",
       "      <td>COMERCIAL</td>\n",
       "      <td>433837.075</td>\n",
       "      <td>6713875.914</td>\n",
       "      <td>0</td>\n",
       "    </tr>\n",
       "    <tr>\n",
       "      <th>7</th>\n",
       "      <td>32</td>\n",
       "      <td>COSTA DO CADEIA</td>\n",
       "      <td>32981.0</td>\n",
       "      <td>CTJ2</td>\n",
       "      <td>1.0</td>\n",
       "      <td>S</td>\n",
       "      <td>RESIDENCIAL</td>\n",
       "      <td>437636.436</td>\n",
       "      <td>6713461.905</td>\n",
       "      <td>6</td>\n",
       "    </tr>\n",
       "    <tr>\n",
       "      <th>8</th>\n",
       "      <td>33</td>\n",
       "      <td>BARRO VERMELHO</td>\n",
       "      <td>30962.0</td>\n",
       "      <td>CTJ2</td>\n",
       "      <td>1.0</td>\n",
       "      <td>S</td>\n",
       "      <td>RURAL</td>\n",
       "      <td>436773.197</td>\n",
       "      <td>6711874.617</td>\n",
       "      <td>14</td>\n",
       "    </tr>\n",
       "    <tr>\n",
       "      <th>9</th>\n",
       "      <td>34</td>\n",
       "      <td>PASSO DO GIL</td>\n",
       "      <td>35475.0</td>\n",
       "      <td>CTJ2</td>\n",
       "      <td>1.0</td>\n",
       "      <td>S</td>\n",
       "      <td>RURAL</td>\n",
       "      <td>440428.196</td>\n",
       "      <td>6713575.763</td>\n",
       "      <td>6</td>\n",
       "    </tr>\n",
       "    <tr>\n",
       "      <th>10</th>\n",
       "      <td>36</td>\n",
       "      <td>PASSO DO GIL</td>\n",
       "      <td>35478.0</td>\n",
       "      <td>CTJ2</td>\n",
       "      <td>1.0</td>\n",
       "      <td>S</td>\n",
       "      <td>RURAL</td>\n",
       "      <td>440513.517</td>\n",
       "      <td>6713524.193</td>\n",
       "      <td>6</td>\n",
       "    </tr>\n",
       "    <tr>\n",
       "      <th>11</th>\n",
       "      <td>37</td>\n",
       "      <td>COSTA DO CADEIA</td>\n",
       "      <td>42771.0</td>\n",
       "      <td>CTJ2</td>\n",
       "      <td>1.0</td>\n",
       "      <td>S</td>\n",
       "      <td>RURAL</td>\n",
       "      <td>440552.135</td>\n",
       "      <td>6713508.324</td>\n",
       "      <td>6</td>\n",
       "    </tr>\n",
       "    <tr>\n",
       "      <th>12</th>\n",
       "      <td>39</td>\n",
       "      <td>COSTA DO CADEIA</td>\n",
       "      <td>30603.0</td>\n",
       "      <td>CTJ2</td>\n",
       "      <td>1.0</td>\n",
       "      <td>S</td>\n",
       "      <td>RURAL</td>\n",
       "      <td>439263.852</td>\n",
       "      <td>6713785.487</td>\n",
       "      <td>6</td>\n",
       "    </tr>\n",
       "    <tr>\n",
       "      <th>13</th>\n",
       "      <td>41</td>\n",
       "      <td>TINGUITE</td>\n",
       "      <td>10332.0</td>\n",
       "      <td>CTJ2</td>\n",
       "      <td>1.0</td>\n",
       "      <td>S</td>\n",
       "      <td>RURAL</td>\n",
       "      <td>415248.056</td>\n",
       "      <td>6705154.883</td>\n",
       "      <td>8</td>\n",
       "    </tr>\n",
       "    <tr>\n",
       "      <th>14</th>\n",
       "      <td>42</td>\n",
       "      <td>CARAMUJO</td>\n",
       "      <td>11856.0</td>\n",
       "      <td>CTJ2</td>\n",
       "      <td>1.0</td>\n",
       "      <td>S</td>\n",
       "      <td>RURAL</td>\n",
       "      <td>412004.169</td>\n",
       "      <td>6705407.080</td>\n",
       "      <td>8</td>\n",
       "    </tr>\n",
       "    <tr>\n",
       "      <th>15</th>\n",
       "      <td>44</td>\n",
       "      <td>BOA VISTA</td>\n",
       "      <td>10624.0</td>\n",
       "      <td>CTJ2</td>\n",
       "      <td>1.0</td>\n",
       "      <td>S</td>\n",
       "      <td>RURAL</td>\n",
       "      <td>415013.668</td>\n",
       "      <td>6706182.401</td>\n",
       "      <td>8</td>\n",
       "    </tr>\n",
       "    <tr>\n",
       "      <th>16</th>\n",
       "      <td>57</td>\n",
       "      <td>BOA ESPERANÇA</td>\n",
       "      <td>19361.0</td>\n",
       "      <td>CTJ2</td>\n",
       "      <td>1.0</td>\n",
       "      <td>S</td>\n",
       "      <td>RURAL</td>\n",
       "      <td>428787.246</td>\n",
       "      <td>6724997.837</td>\n",
       "      <td>15</td>\n",
       "    </tr>\n",
       "    <tr>\n",
       "      <th>17</th>\n",
       "      <td>123</td>\n",
       "      <td>CATUPI</td>\n",
       "      <td>31283.0</td>\n",
       "      <td>CTJ2</td>\n",
       "      <td>1.0</td>\n",
       "      <td>S</td>\n",
       "      <td>RURAL</td>\n",
       "      <td>437780.427</td>\n",
       "      <td>6718093.297</td>\n",
       "      <td>6</td>\n",
       "    </tr>\n",
       "    <tr>\n",
       "      <th>18</th>\n",
       "      <td>125</td>\n",
       "      <td>CATUPI</td>\n",
       "      <td>41445.0</td>\n",
       "      <td>CTJ2</td>\n",
       "      <td>1.0</td>\n",
       "      <td>S</td>\n",
       "      <td>RESIDENCIAL</td>\n",
       "      <td>436953.934</td>\n",
       "      <td>6719375.209</td>\n",
       "      <td>0</td>\n",
       "    </tr>\n",
       "    <tr>\n",
       "      <th>19</th>\n",
       "      <td>127</td>\n",
       "      <td>SANGA FUNDA</td>\n",
       "      <td>32967.0</td>\n",
       "      <td>CTJ2</td>\n",
       "      <td>1.0</td>\n",
       "      <td>S</td>\n",
       "      <td>RESIDENCIAL</td>\n",
       "      <td>440124.599</td>\n",
       "      <td>6717864.236</td>\n",
       "      <td>6</td>\n",
       "    </tr>\n",
       "  </tbody>\n",
       "</table>\n",
       "</div>"
      ],
      "text/plain": [
       "     UC                LOCAL    POSTE    SE   AL LIGADO       CLASSE  \\\n",
       "0     4  MORRO DO PEDRO ROSA  75934.0  CTJ2  1.0      S        RURAL   \n",
       "1    11  MORRO DO PEDRO ROSA  24353.0  CTJ2  1.0      S  RESIDENCIAL   \n",
       "2    13                TABAI  52287.0  CTJ2  1.0      S    COMERCIAL   \n",
       "3    14      COSTA DO CADEIA  64532.0  CTJ2  1.0      S        RURAL   \n",
       "4    15          TREVO TABAI  43147.0  CTJ2  1.0      S        RURAL   \n",
       "5    19      COSTA DO CADEIA  26700.0  CTJ2  1.0      S        RURAL   \n",
       "6    29        COXILHA VELHA  29378.0  CTJ2  1.0      S    COMERCIAL   \n",
       "7    32      COSTA DO CADEIA  32981.0  CTJ2  1.0      S  RESIDENCIAL   \n",
       "8    33       BARRO VERMELHO  30962.0  CTJ2  1.0      S        RURAL   \n",
       "9    34         PASSO DO GIL  35475.0  CTJ2  1.0      S        RURAL   \n",
       "10   36         PASSO DO GIL  35478.0  CTJ2  1.0      S        RURAL   \n",
       "11   37      COSTA DO CADEIA  42771.0  CTJ2  1.0      S        RURAL   \n",
       "12   39      COSTA DO CADEIA  30603.0  CTJ2  1.0      S        RURAL   \n",
       "13   41             TINGUITE  10332.0  CTJ2  1.0      S        RURAL   \n",
       "14   42             CARAMUJO  11856.0  CTJ2  1.0      S        RURAL   \n",
       "15   44            BOA VISTA  10624.0  CTJ2  1.0      S        RURAL   \n",
       "16   57        BOA ESPERANÇA  19361.0  CTJ2  1.0      S        RURAL   \n",
       "17  123               CATUPI  31283.0  CTJ2  1.0      S        RURAL   \n",
       "18  125               CATUPI  41445.0  CTJ2  1.0      S  RESIDENCIAL   \n",
       "19  127          SANGA FUNDA  32967.0  CTJ2  1.0      S  RESIDENCIAL   \n",
       "\n",
       "             X            Y  CLUSTER  \n",
       "0   427474.595  6714270.209       19  \n",
       "1   426273.037  6713425.845       19  \n",
       "2   431613.045  6715311.228        0  \n",
       "3   432818.329  6714907.775        0  \n",
       "4   430488.909  6716056.241        0  \n",
       "5   435026.002  6714015.786        0  \n",
       "6   433837.075  6713875.914        0  \n",
       "7   437636.436  6713461.905        6  \n",
       "8   436773.197  6711874.617       14  \n",
       "9   440428.196  6713575.763        6  \n",
       "10  440513.517  6713524.193        6  \n",
       "11  440552.135  6713508.324        6  \n",
       "12  439263.852  6713785.487        6  \n",
       "13  415248.056  6705154.883        8  \n",
       "14  412004.169  6705407.080        8  \n",
       "15  415013.668  6706182.401        8  \n",
       "16  428787.246  6724997.837       15  \n",
       "17  437780.427  6718093.297        6  \n",
       "18  436953.934  6719375.209        0  \n",
       "19  440124.599  6717864.236        6  "
      ]
     },
     "execution_count": 13,
     "metadata": {},
     "output_type": "execute_result"
    }
   ],
   "source": [
    "clustered_data = df_full.merge(df, left_on='UC', right_on='UC')\n",
    "clustered_data = clustered_data.drop(['X_x','Y_x'], axis=1)\n",
    "clustered_data.rename(columns={'X_y':'X', 'Y_y':'Y', 'cluster_label':'CLUSTER'}, inplace = True)\n",
    "clustered_data.head(20)"
   ]
  },
  {
   "cell_type": "markdown",
   "id": "cea40b7f",
   "metadata": {},
   "source": [
    "### Exporting to excel"
   ]
  },
  {
   "cell_type": "code",
   "execution_count": 14,
   "id": "90ed9ac5",
   "metadata": {},
   "outputs": [
    {
     "name": "stdout",
     "output_type": "stream",
     "text": [
      "Arquivo CSV criado com sucesso !\n"
     ]
    }
   ],
   "source": [
    "clustered_data.to_csv ('clustered_data.csv', index=None, header = True) \n",
    "print(f'Arquivo CSV criado com sucesso !') "
   ]
  }
 ],
 "metadata": {
  "kernelspec": {
   "display_name": "Python 3 (ipykernel)",
   "language": "python",
   "name": "python3"
  },
  "language_info": {
   "codemirror_mode": {
    "name": "ipython",
    "version": 3
   },
   "file_extension": ".py",
   "mimetype": "text/x-python",
   "name": "python",
   "nbconvert_exporter": "python",
   "pygments_lexer": "ipython3",
   "version": "3.10.1"
  }
 },
 "nbformat": 4,
 "nbformat_minor": 5
}
